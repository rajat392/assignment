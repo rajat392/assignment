{
 "cells": [
  {
   "cell_type": "code",
   "execution_count": 4,
   "id": "1f37e0cf-d6c2-47da-b977-f68007998679",
   "metadata": {},
   "outputs": [
    {
     "name": "stdin",
     "output_type": "stream",
     "text": [
      "enter your price 500\n"
     ]
    },
    {
     "name": "stdout",
     "output_type": "stream",
     "text": [
      "i will purchase\n"
     ]
    }
   ],
   "source": [
    "price = int(input(\"enter your price\"))\n",
    "if price > 1000:\n",
    "    print (\"i will not purchase\")\n",
    "    if price >5000:\n",
    "        print(\"this is too much\")\n",
    "    elif price < 2000 :\n",
    "        print(\"its ok\")\n",
    "elif price <1000 :\n",
    "    print(\"i will purchase\")\n",
    "else : \n",
    "    print (\"not interested\")"
   ]
  },
  {
   "cell_type": "code",
   "execution_count": 5,
   "id": "63fd3b7d-6a31-4d92-b418-13d6d8cb79d6",
   "metadata": {},
   "outputs": [],
   "source": [
    "l = [1,2,3,4,5,6,7,8]"
   ]
  },
  {
   "cell_type": "code",
   "execution_count": 11,
   "id": "7facc126-b295-48b1-8d72-9587a6b2537b",
   "metadata": {},
   "outputs": [
    {
     "data": {
      "text/plain": [
       "2"
      ]
     },
     "execution_count": 11,
     "metadata": {},
     "output_type": "execute_result"
    }
   ],
   "source": [
    "l[0]+1"
   ]
  },
  {
   "cell_type": "code",
   "execution_count": 12,
   "id": "66da2ba5-eb8f-4a61-b05c-770f91c16b54",
   "metadata": {},
   "outputs": [],
   "source": [
    "l1 = []"
   ]
  },
  {
   "cell_type": "code",
   "execution_count": 13,
   "id": "edf57367-b09e-4941-aacd-f4116cc9f541",
   "metadata": {},
   "outputs": [
    {
     "ename": "AttributeError",
     "evalue": "'list' object has no attribute 'appendl'",
     "output_type": "error",
     "traceback": [
      "\u001b[0;31m---------------------------------------------------------------------------\u001b[0m",
      "\u001b[0;31mAttributeError\u001b[0m                            Traceback (most recent call last)",
      "Cell \u001b[0;32mIn[13], line 1\u001b[0m\n\u001b[0;32m----> 1\u001b[0m \u001b[43ml1\u001b[49m\u001b[38;5;241;43m.\u001b[39;49m\u001b[43mappendl\u001b[49m(l[\u001b[38;5;241m0\u001b[39m]\u001b[38;5;241m+\u001b[39m\u001b[38;5;241m1\u001b[39m)\n",
      "\u001b[0;31mAttributeError\u001b[0m: 'list' object has no attribute 'appendl'"
     ]
    }
   ],
   "source": [
    "l1.appendl(l[0]+1)"
   ]
  },
  {
   "cell_type": "code",
   "execution_count": 14,
   "id": "4acf2b63-64c1-456f-93d2-97c2909ea919",
   "metadata": {},
   "outputs": [],
   "source": [
    "l = [1,2,3,4,5,6,7,8]"
   ]
  },
  {
   "cell_type": "code",
   "execution_count": 19,
   "id": "930be719-cce0-4d38-87c2-0dfd5659b1d9",
   "metadata": {},
   "outputs": [
    {
     "name": "stdout",
     "output_type": "stream",
     "text": [
      "2\n",
      "3\n",
      "4\n",
      "5\n",
      "6\n",
      "7\n",
      "8\n",
      "9\n"
     ]
    },
    {
     "data": {
      "text/plain": [
       "[2, 3, 4, 5, 6, 7, 8, 9]"
      ]
     },
     "execution_count": 19,
     "metadata": {},
     "output_type": "execute_result"
    }
   ],
   "source": [
    "l1 = []\n",
    "for i in l :\n",
    "    print(i+1)\n",
    "    l1.append(i+1)\n",
    "l1"
   ]
  },
  {
   "cell_type": "code",
   "execution_count": 20,
   "id": "eeccbe72-5462-4533-a261-f874141081f4",
   "metadata": {},
   "outputs": [
    {
     "data": {
      "text/plain": [
       "[1, 2, 3, 4, 5, 6, 7, 8]"
      ]
     },
     "execution_count": 20,
     "metadata": {},
     "output_type": "execute_result"
    }
   ],
   "source": [
    "l"
   ]
  },
  {
   "cell_type": "code",
   "execution_count": 21,
   "id": "28e38464-fad3-4a4b-b2fb-61b2463ac429",
   "metadata": {},
   "outputs": [],
   "source": [
    "l = [\"sudh\" , \"kumarr\" , \"pwskiils\" , \"course\"]"
   ]
  },
  {
   "cell_type": "code",
   "execution_count": 23,
   "id": "fea5e3fe-37ee-4fe2-bcdc-0e9aace538d4",
   "metadata": {},
   "outputs": [
    {
     "name": "stdout",
     "output_type": "stream",
     "text": [
      "sudh\n",
      "kumarr\n",
      "pwskiils\n",
      "course\n"
     ]
    }
   ],
   "source": [
    "l1 = []\n",
    "for i in l : \n",
    "    print(i)\n",
    "    l1.append(i. upper())"
   ]
  },
  {
   "cell_type": "code",
   "execution_count": 24,
   "id": "9fc16925-55b6-4730-b6dc-89155a7d712a",
   "metadata": {},
   "outputs": [
    {
     "data": {
      "text/plain": [
       "['SUDH', 'KUMARR', 'PWSKIILS', 'COURSE']"
      ]
     },
     "execution_count": 24,
     "metadata": {},
     "output_type": "execute_result"
    }
   ],
   "source": [
    "l1"
   ]
  },
  {
   "cell_type": "code",
   "execution_count": 26,
   "id": "6ab6cbca-0c8a-40e0-866b-0d8bd76b4c64",
   "metadata": {},
   "outputs": [],
   "source": [
    "l = [1,2,3,4,4,\"sudh\", \"kumar\", 324,34.456,\"abc\"]"
   ]
  },
  {
   "cell_type": "code",
   "execution_count": 29,
   "id": "66425f02-6231-4a68-94a1-11c665d68158",
   "metadata": {},
   "outputs": [],
   "source": [
    "l1_num = []\n",
    "l2_str = []\n",
    "for i in l :\n",
    "    if type (i) == int or type (i) == float :\n",
    "        l1_num.append(i)\n",
    "    else :\n",
    "        l2_str.append(i)"
   ]
  },
  {
   "cell_type": "code",
   "execution_count": 30,
   "id": "5ff9467b-d3ec-41a5-bcc9-03956f8d4d4e",
   "metadata": {},
   "outputs": [
    {
     "data": {
      "text/plain": [
       "[1, 2, 3, 4, 4, 324, 34.456]"
      ]
     },
     "execution_count": 30,
     "metadata": {},
     "output_type": "execute_result"
    }
   ],
   "source": [
    "l1_num"
   ]
  },
  {
   "cell_type": "code",
   "execution_count": 31,
   "id": "3736506a-b619-46d4-bfbc-5c1ee571e222",
   "metadata": {},
   "outputs": [
    {
     "data": {
      "text/plain": [
       "['sudh', 'kumar', 'abc']"
      ]
     },
     "execution_count": 31,
     "metadata": {},
     "output_type": "execute_result"
    }
   ],
   "source": [
    "l2_str"
   ]
  },
  {
   "cell_type": "code",
   "execution_count": null,
   "id": "dcc8787f-f7c9-4688-b565-6d73cd1484fd",
   "metadata": {},
   "outputs": [],
   "source": []
  }
 ],
 "metadata": {
  "kernelspec": {
   "display_name": "Python 3 (ipykernel)",
   "language": "python",
   "name": "python3"
  },
  "language_info": {
   "codemirror_mode": {
    "name": "ipython",
    "version": 3
   },
   "file_extension": ".py",
   "mimetype": "text/x-python",
   "name": "python",
   "nbconvert_exporter": "python",
   "pygments_lexer": "ipython3",
   "version": "3.10.8"
  }
 },
 "nbformat": 4,
 "nbformat_minor": 5
}
